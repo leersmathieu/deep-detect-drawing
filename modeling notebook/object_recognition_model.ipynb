{
 "cells": [
  {
   "cell_type": "markdown",
   "metadata": {},
   "source": [
    "# Object recognition\n",
    "\n",
    "\n",
    "I choose 6 \"object\" from [\"quick,draw!\" dataset](https://console.cloud.google.com/storage/browser/quickdraw_dataset/full/simplified). and let's create an AI able to recognize them"
   ]
  },
  {
   "cell_type": "code",
   "execution_count": 7,
   "metadata": {},
   "outputs": [],
   "source": [
    "# first imports...\n",
    "import numpy as np\n",
    "import pandas as pd\n",
    "import tensorflow as tf\n",
    "import matplotlib.pyplot as plt\n",
    "\n"
   ]
  },
  {
   "cell_type": "code",
   "execution_count": 2,
   "metadata": {},
   "outputs": [],
   "source": [
    "# defining class -> (the famous \"object\")\n",
    "class_list = ['angel', 'sword', 'airplane', 'camel', 'diamond', 'lion']"
   ]
  },
  {
   "cell_type": "code",
   "execution_count": 5,
   "metadata": {},
   "outputs": [],
   "source": [
    "# load datasets for each class\n",
    "with tf.device('/GPU:0'):\n",
    "\n",
    "    angel_dataset = pd.read_json('assets/full_simplified_angel.ndjson', lines=True)\n",
    "    sword_dataset = pd.read_json('assets/full_simplified_sword.ndjson', lines=True)\n",
    "    airplane_dataset = pd.read_json('assets/full_simplified_airplane.ndjson', lines=True)\n",
    "    camel_dataset = pd.read_json('assets/full_simplified_camel.ndjson', lines=True)\n",
    "    diamond_dataset = pd.read_json('assets/full_simplified_diamond.ndjson', lines=True)\n",
    "    lion_dataset = pd.read_json('assets/full_simplified_lion.ndjson', lines=True)"
   ]
  },
  {
   "cell_type": "markdown",
   "metadata": {},
   "source": [
    "## A little visualisation"
   ]
  },
  {
   "cell_type": "code",
   "execution_count": 8,
   "metadata": {},
   "outputs": [
    {
     "data": {
      "text/html": [
       "<div>\n",
       "<style scoped>\n",
       "    .dataframe tbody tr th:only-of-type {\n",
       "        vertical-align: middle;\n",
       "    }\n",
       "\n",
       "    .dataframe tbody tr th {\n",
       "        vertical-align: top;\n",
       "    }\n",
       "\n",
       "    .dataframe thead th {\n",
       "        text-align: right;\n",
       "    }\n",
       "</style>\n",
       "<table border=\"1\" class=\"dataframe\">\n",
       "  <thead>\n",
       "    <tr style=\"text-align: right;\">\n",
       "      <th></th>\n",
       "      <th>word</th>\n",
       "      <th>countrycode</th>\n",
       "      <th>timestamp</th>\n",
       "      <th>recognized</th>\n",
       "      <th>key_id</th>\n",
       "      <th>drawing</th>\n",
       "    </tr>\n",
       "  </thead>\n",
       "  <tbody>\n",
       "    <tr>\n",
       "      <th>0</th>\n",
       "      <td>lion</td>\n",
       "      <td>MX</td>\n",
       "      <td>2017-03-26 03:15:24.261930+00:00</td>\n",
       "      <td>True</td>\n",
       "      <td>5119240698855424</td>\n",
       "      <td>[[[135, 135], [60, 60]], [[125, 110, 90, 68, 6...</td>\n",
       "    </tr>\n",
       "    <tr>\n",
       "      <th>1</th>\n",
       "      <td>lion</td>\n",
       "      <td>AU</td>\n",
       "      <td>2017-01-27 06:10:19.457510+00:00</td>\n",
       "      <td>True</td>\n",
       "      <td>6258671753363456</td>\n",
       "      <td>[[[190, 185, 180, 164, 155, 152, 159, 170, 187...</td>\n",
       "    </tr>\n",
       "    <tr>\n",
       "      <th>2</th>\n",
       "      <td>lion</td>\n",
       "      <td>US</td>\n",
       "      <td>2017-03-22 12:36:31.700760+00:00</td>\n",
       "      <td>True</td>\n",
       "      <td>6086914044067840</td>\n",
       "      <td>[[[124, 106, 89, 69, 44, 32, 29, 29, 43, 67, 9...</td>\n",
       "    </tr>\n",
       "    <tr>\n",
       "      <th>3</th>\n",
       "      <td>lion</td>\n",
       "      <td>RU</td>\n",
       "      <td>2017-01-29 06:39:03.850670+00:00</td>\n",
       "      <td>True</td>\n",
       "      <td>6089213952917504</td>\n",
       "      <td>[[[47, 73, 69, 86, 80, 81, 111, 101, 117, 119,...</td>\n",
       "    </tr>\n",
       "    <tr>\n",
       "      <th>4</th>\n",
       "      <td>lion</td>\n",
       "      <td>AE</td>\n",
       "      <td>2017-03-28 07:48:11.697990+00:00</td>\n",
       "      <td>True</td>\n",
       "      <td>4692448993345536</td>\n",
       "      <td>[[[149, 143, 134, 127, 115, 99, 81, 69, 64, 62...</td>\n",
       "    </tr>\n",
       "  </tbody>\n",
       "</table>\n",
       "</div>"
      ],
      "text/plain": [
       "   word countrycode                        timestamp  recognized  \\\n",
       "0  lion          MX 2017-03-26 03:15:24.261930+00:00        True   \n",
       "1  lion          AU 2017-01-27 06:10:19.457510+00:00        True   \n",
       "2  lion          US 2017-03-22 12:36:31.700760+00:00        True   \n",
       "3  lion          RU 2017-01-29 06:39:03.850670+00:00        True   \n",
       "4  lion          AE 2017-03-28 07:48:11.697990+00:00        True   \n",
       "\n",
       "             key_id                                            drawing  \n",
       "0  5119240698855424  [[[135, 135], [60, 60]], [[125, 110, 90, 68, 6...  \n",
       "1  6258671753363456  [[[190, 185, 180, 164, 155, 152, 159, 170, 187...  \n",
       "2  6086914044067840  [[[124, 106, 89, 69, 44, 32, 29, 29, 43, 67, 9...  \n",
       "3  6089213952917504  [[[47, 73, 69, 86, 80, 81, 111, 101, 117, 119,...  \n",
       "4  4692448993345536  [[[149, 143, 134, 127, 115, 99, 81, 69, 64, 62...  "
      ]
     },
     "execution_count": 8,
     "metadata": {},
     "output_type": "execute_result"
    }
   ],
   "source": [
    "lion_dataset.head()"
   ]
  },
  {
   "cell_type": "code",
   "execution_count": 9,
   "metadata": {},
   "outputs": [
    {
     "data": {
      "text/html": [
       "<div>\n",
       "<style scoped>\n",
       "    .dataframe tbody tr th:only-of-type {\n",
       "        vertical-align: middle;\n",
       "    }\n",
       "\n",
       "    .dataframe tbody tr th {\n",
       "        vertical-align: top;\n",
       "    }\n",
       "\n",
       "    .dataframe thead th {\n",
       "        text-align: right;\n",
       "    }\n",
       "</style>\n",
       "<table border=\"1\" class=\"dataframe\">\n",
       "  <thead>\n",
       "    <tr style=\"text-align: right;\">\n",
       "      <th></th>\n",
       "      <th>0</th>\n",
       "      <th>1</th>\n",
       "      <th>2</th>\n",
       "      <th>3</th>\n",
       "      <th>4</th>\n",
       "      <th>5</th>\n",
       "      <th>6</th>\n",
       "      <th>7</th>\n",
       "      <th>8</th>\n",
       "      <th>9</th>\n",
       "      <th>...</th>\n",
       "      <th>120939</th>\n",
       "      <th>120940</th>\n",
       "      <th>120941</th>\n",
       "      <th>120942</th>\n",
       "      <th>120943</th>\n",
       "      <th>120944</th>\n",
       "      <th>120945</th>\n",
       "      <th>120946</th>\n",
       "      <th>120947</th>\n",
       "      <th>120948</th>\n",
       "    </tr>\n",
       "  </thead>\n",
       "  <tbody>\n",
       "    <tr>\n",
       "      <th>word</th>\n",
       "      <td>lion</td>\n",
       "      <td>lion</td>\n",
       "      <td>lion</td>\n",
       "      <td>lion</td>\n",
       "      <td>lion</td>\n",
       "      <td>lion</td>\n",
       "      <td>lion</td>\n",
       "      <td>lion</td>\n",
       "      <td>lion</td>\n",
       "      <td>lion</td>\n",
       "      <td>...</td>\n",
       "      <td>lion</td>\n",
       "      <td>lion</td>\n",
       "      <td>lion</td>\n",
       "      <td>lion</td>\n",
       "      <td>lion</td>\n",
       "      <td>lion</td>\n",
       "      <td>lion</td>\n",
       "      <td>lion</td>\n",
       "      <td>lion</td>\n",
       "      <td>lion</td>\n",
       "    </tr>\n",
       "    <tr>\n",
       "      <th>countrycode</th>\n",
       "      <td>MX</td>\n",
       "      <td>AU</td>\n",
       "      <td>US</td>\n",
       "      <td>RU</td>\n",
       "      <td>AE</td>\n",
       "      <td>US</td>\n",
       "      <td>AE</td>\n",
       "      <td>MY</td>\n",
       "      <td>US</td>\n",
       "      <td>GT</td>\n",
       "      <td>...</td>\n",
       "      <td>US</td>\n",
       "      <td>DE</td>\n",
       "      <td>US</td>\n",
       "      <td>US</td>\n",
       "      <td>US</td>\n",
       "      <td>US</td>\n",
       "      <td>US</td>\n",
       "      <td>IN</td>\n",
       "      <td>US</td>\n",
       "      <td>US</td>\n",
       "    </tr>\n",
       "    <tr>\n",
       "      <th>timestamp</th>\n",
       "      <td>2017-03-26 03:15:24.261930+00:00</td>\n",
       "      <td>2017-01-27 06:10:19.457510+00:00</td>\n",
       "      <td>2017-03-22 12:36:31.700760+00:00</td>\n",
       "      <td>2017-01-29 06:39:03.850670+00:00</td>\n",
       "      <td>2017-03-28 07:48:11.697990+00:00</td>\n",
       "      <td>2017-01-27 17:58:16.073330+00:00</td>\n",
       "      <td>2017-03-25 11:26:42.107120+00:00</td>\n",
       "      <td>2017-03-12 04:17:48.583510+00:00</td>\n",
       "      <td>2017-03-10 15:44:35.360280+00:00</td>\n",
       "      <td>2017-01-27 16:23:26.290800+00:00</td>\n",
       "      <td>...</td>\n",
       "      <td>2017-01-30 01:31:52.488950+00:00</td>\n",
       "      <td>2017-01-31 17:04:55.188380+00:00</td>\n",
       "      <td>2017-03-27 14:57:09.238230+00:00</td>\n",
       "      <td>2017-03-27 02:11:05.649810+00:00</td>\n",
       "      <td>2017-03-02 19:13:22.628780+00:00</td>\n",
       "      <td>2017-03-27 05:27:49.915090+00:00</td>\n",
       "      <td>2017-01-27 03:49:58.195990+00:00</td>\n",
       "      <td>2017-03-04 15:03:28.596770+00:00</td>\n",
       "      <td>2017-03-27 23:33:38.055080+00:00</td>\n",
       "      <td>2017-03-02 15:21:23.077170+00:00</td>\n",
       "    </tr>\n",
       "    <tr>\n",
       "      <th>recognized</th>\n",
       "      <td>True</td>\n",
       "      <td>True</td>\n",
       "      <td>True</td>\n",
       "      <td>True</td>\n",
       "      <td>True</td>\n",
       "      <td>True</td>\n",
       "      <td>True</td>\n",
       "      <td>True</td>\n",
       "      <td>True</td>\n",
       "      <td>True</td>\n",
       "      <td>...</td>\n",
       "      <td>True</td>\n",
       "      <td>True</td>\n",
       "      <td>True</td>\n",
       "      <td>True</td>\n",
       "      <td>False</td>\n",
       "      <td>True</td>\n",
       "      <td>True</td>\n",
       "      <td>False</td>\n",
       "      <td>True</td>\n",
       "      <td>False</td>\n",
       "    </tr>\n",
       "    <tr>\n",
       "      <th>key_id</th>\n",
       "      <td>5119240698855424</td>\n",
       "      <td>6258671753363456</td>\n",
       "      <td>6086914044067840</td>\n",
       "      <td>6089213952917504</td>\n",
       "      <td>4692448993345536</td>\n",
       "      <td>4939091638484992</td>\n",
       "      <td>5496238835236864</td>\n",
       "      <td>6496292492541952</td>\n",
       "      <td>6237302743367680</td>\n",
       "      <td>4883616632930304</td>\n",
       "      <td>...</td>\n",
       "      <td>4613991873642496</td>\n",
       "      <td>4630823917584384</td>\n",
       "      <td>6037310225252352</td>\n",
       "      <td>6198233053265920</td>\n",
       "      <td>6480751254044672</td>\n",
       "      <td>4592559059894272</td>\n",
       "      <td>6528998337150976</td>\n",
       "      <td>6529063562772480</td>\n",
       "      <td>6036790332882944</td>\n",
       "      <td>5035177199796224</td>\n",
       "    </tr>\n",
       "    <tr>\n",
       "      <th>drawing</th>\n",
       "      <td>[[[135, 135], [60, 60]], [[125, 110, 90, 68, 6...</td>\n",
       "      <td>[[[190, 185, 180, 164, 155, 152, 159, 170, 187...</td>\n",
       "      <td>[[[124, 106, 89, 69, 44, 32, 29, 29, 43, 67, 9...</td>\n",
       "      <td>[[[47, 73, 69, 86, 80, 81, 111, 101, 117, 119,...</td>\n",
       "      <td>[[[149, 143, 134, 127, 115, 99, 81, 69, 64, 62...</td>\n",
       "      <td>[[[126, 103, 88, 77, 71, 72, 77, 94, 121, 165,...</td>\n",
       "      <td>[[[145, 120, 105, 99, 100, 115, 149, 177, 195,...</td>\n",
       "      <td>[[[60, 68, 84, 100, 118, 137, 145, 151, 157, 1...</td>\n",
       "      <td>[[[195, 174, 149, 120, 99, 82, 77, 86, 102, 12...</td>\n",
       "      <td>[[[132, 89, 76, 70, 68, 72, 90, 108, 121, 146,...</td>\n",
       "      <td>...</td>\n",
       "      <td>[[[152, 140, 131, 98, 61, 46, 42, 41, 46, 62, ...</td>\n",
       "      <td>[[[128, 177, 173, 171, 168, 163, 145, 140, 142...</td>\n",
       "      <td>[[[124, 109, 99, 80, 73, 64, 64, 69, 85, 123, ...</td>\n",
       "      <td>[[[134, 109, 71, 54, 52, 60, 68, 94, 117, 135,...</td>\n",
       "      <td>[[[203, 173, 157, 154, 154, 168, 188, 198, 210...</td>\n",
       "      <td>[[[171, 162, 158, 148, 153, 174, 190, 205, 218...</td>\n",
       "      <td>[[[36, 36], [117, 117]], [[34, 61], [119, 99]]...</td>\n",
       "      <td>[[[76, 59, 58, 68, 98, 106, 111, 112, 108, 93,...</td>\n",
       "      <td>[[[179, 168, 156, 142, 133, 134, 139, 153, 173...</td>\n",
       "      <td>[[[203, 191, 181, 174, 172], [87, 91, 87, 75, ...</td>\n",
       "    </tr>\n",
       "  </tbody>\n",
       "</table>\n",
       "<p>6 rows × 120949 columns</p>\n",
       "</div>"
      ],
      "text/plain": [
       "                                                        0       \\\n",
       "word                                                      lion   \n",
       "countrycode                                                 MX   \n",
       "timestamp                     2017-03-26 03:15:24.261930+00:00   \n",
       "recognized                                                True   \n",
       "key_id                                        5119240698855424   \n",
       "drawing      [[[135, 135], [60, 60]], [[125, 110, 90, 68, 6...   \n",
       "\n",
       "                                                        1       \\\n",
       "word                                                      lion   \n",
       "countrycode                                                 AU   \n",
       "timestamp                     2017-01-27 06:10:19.457510+00:00   \n",
       "recognized                                                True   \n",
       "key_id                                        6258671753363456   \n",
       "drawing      [[[190, 185, 180, 164, 155, 152, 159, 170, 187...   \n",
       "\n",
       "                                                        2       \\\n",
       "word                                                      lion   \n",
       "countrycode                                                 US   \n",
       "timestamp                     2017-03-22 12:36:31.700760+00:00   \n",
       "recognized                                                True   \n",
       "key_id                                        6086914044067840   \n",
       "drawing      [[[124, 106, 89, 69, 44, 32, 29, 29, 43, 67, 9...   \n",
       "\n",
       "                                                        3       \\\n",
       "word                                                      lion   \n",
       "countrycode                                                 RU   \n",
       "timestamp                     2017-01-29 06:39:03.850670+00:00   \n",
       "recognized                                                True   \n",
       "key_id                                        6089213952917504   \n",
       "drawing      [[[47, 73, 69, 86, 80, 81, 111, 101, 117, 119,...   \n",
       "\n",
       "                                                        4       \\\n",
       "word                                                      lion   \n",
       "countrycode                                                 AE   \n",
       "timestamp                     2017-03-28 07:48:11.697990+00:00   \n",
       "recognized                                                True   \n",
       "key_id                                        4692448993345536   \n",
       "drawing      [[[149, 143, 134, 127, 115, 99, 81, 69, 64, 62...   \n",
       "\n",
       "                                                        5       \\\n",
       "word                                                      lion   \n",
       "countrycode                                                 US   \n",
       "timestamp                     2017-01-27 17:58:16.073330+00:00   \n",
       "recognized                                                True   \n",
       "key_id                                        4939091638484992   \n",
       "drawing      [[[126, 103, 88, 77, 71, 72, 77, 94, 121, 165,...   \n",
       "\n",
       "                                                        6       \\\n",
       "word                                                      lion   \n",
       "countrycode                                                 AE   \n",
       "timestamp                     2017-03-25 11:26:42.107120+00:00   \n",
       "recognized                                                True   \n",
       "key_id                                        5496238835236864   \n",
       "drawing      [[[145, 120, 105, 99, 100, 115, 149, 177, 195,...   \n",
       "\n",
       "                                                        7       \\\n",
       "word                                                      lion   \n",
       "countrycode                                                 MY   \n",
       "timestamp                     2017-03-12 04:17:48.583510+00:00   \n",
       "recognized                                                True   \n",
       "key_id                                        6496292492541952   \n",
       "drawing      [[[60, 68, 84, 100, 118, 137, 145, 151, 157, 1...   \n",
       "\n",
       "                                                        8       \\\n",
       "word                                                      lion   \n",
       "countrycode                                                 US   \n",
       "timestamp                     2017-03-10 15:44:35.360280+00:00   \n",
       "recognized                                                True   \n",
       "key_id                                        6237302743367680   \n",
       "drawing      [[[195, 174, 149, 120, 99, 82, 77, 86, 102, 12...   \n",
       "\n",
       "                                                        9       ...  \\\n",
       "word                                                      lion  ...   \n",
       "countrycode                                                 GT  ...   \n",
       "timestamp                     2017-01-27 16:23:26.290800+00:00  ...   \n",
       "recognized                                                True  ...   \n",
       "key_id                                        4883616632930304  ...   \n",
       "drawing      [[[132, 89, 76, 70, 68, 72, 90, 108, 121, 146,...  ...   \n",
       "\n",
       "                                                        120939  \\\n",
       "word                                                      lion   \n",
       "countrycode                                                 US   \n",
       "timestamp                     2017-01-30 01:31:52.488950+00:00   \n",
       "recognized                                                True   \n",
       "key_id                                        4613991873642496   \n",
       "drawing      [[[152, 140, 131, 98, 61, 46, 42, 41, 46, 62, ...   \n",
       "\n",
       "                                                        120940  \\\n",
       "word                                                      lion   \n",
       "countrycode                                                 DE   \n",
       "timestamp                     2017-01-31 17:04:55.188380+00:00   \n",
       "recognized                                                True   \n",
       "key_id                                        4630823917584384   \n",
       "drawing      [[[128, 177, 173, 171, 168, 163, 145, 140, 142...   \n",
       "\n",
       "                                                        120941  \\\n",
       "word                                                      lion   \n",
       "countrycode                                                 US   \n",
       "timestamp                     2017-03-27 14:57:09.238230+00:00   \n",
       "recognized                                                True   \n",
       "key_id                                        6037310225252352   \n",
       "drawing      [[[124, 109, 99, 80, 73, 64, 64, 69, 85, 123, ...   \n",
       "\n",
       "                                                        120942  \\\n",
       "word                                                      lion   \n",
       "countrycode                                                 US   \n",
       "timestamp                     2017-03-27 02:11:05.649810+00:00   \n",
       "recognized                                                True   \n",
       "key_id                                        6198233053265920   \n",
       "drawing      [[[134, 109, 71, 54, 52, 60, 68, 94, 117, 135,...   \n",
       "\n",
       "                                                        120943  \\\n",
       "word                                                      lion   \n",
       "countrycode                                                 US   \n",
       "timestamp                     2017-03-02 19:13:22.628780+00:00   \n",
       "recognized                                               False   \n",
       "key_id                                        6480751254044672   \n",
       "drawing      [[[203, 173, 157, 154, 154, 168, 188, 198, 210...   \n",
       "\n",
       "                                                        120944  \\\n",
       "word                                                      lion   \n",
       "countrycode                                                 US   \n",
       "timestamp                     2017-03-27 05:27:49.915090+00:00   \n",
       "recognized                                                True   \n",
       "key_id                                        4592559059894272   \n",
       "drawing      [[[171, 162, 158, 148, 153, 174, 190, 205, 218...   \n",
       "\n",
       "                                                        120945  \\\n",
       "word                                                      lion   \n",
       "countrycode                                                 US   \n",
       "timestamp                     2017-01-27 03:49:58.195990+00:00   \n",
       "recognized                                                True   \n",
       "key_id                                        6528998337150976   \n",
       "drawing      [[[36, 36], [117, 117]], [[34, 61], [119, 99]]...   \n",
       "\n",
       "                                                        120946  \\\n",
       "word                                                      lion   \n",
       "countrycode                                                 IN   \n",
       "timestamp                     2017-03-04 15:03:28.596770+00:00   \n",
       "recognized                                               False   \n",
       "key_id                                        6529063562772480   \n",
       "drawing      [[[76, 59, 58, 68, 98, 106, 111, 112, 108, 93,...   \n",
       "\n",
       "                                                        120947  \\\n",
       "word                                                      lion   \n",
       "countrycode                                                 US   \n",
       "timestamp                     2017-03-27 23:33:38.055080+00:00   \n",
       "recognized                                                True   \n",
       "key_id                                        6036790332882944   \n",
       "drawing      [[[179, 168, 156, 142, 133, 134, 139, 153, 173...   \n",
       "\n",
       "                                                        120948  \n",
       "word                                                      lion  \n",
       "countrycode                                                 US  \n",
       "timestamp                     2017-03-02 15:21:23.077170+00:00  \n",
       "recognized                                               False  \n",
       "key_id                                        5035177199796224  \n",
       "drawing      [[[203, 191, 181, 174, 172], [87, 91, 87, 75, ...  \n",
       "\n",
       "[6 rows x 120949 columns]"
      ]
     },
     "execution_count": 9,
     "metadata": {},
     "output_type": "execute_result"
    }
   ],
   "source": [
    "lion_dataset.transpose()"
   ]
  },
  {
   "cell_type": "code",
   "execution_count": 12,
   "metadata": {},
   "outputs": [],
   "source": [
    "# merging all dataset\n",
    "doodles_dataset = angel_dataset.append((sword_dataset, airplane_dataset, camel_dataset, diamond_dataset, lion_dataset))"
   ]
  },
  {
   "cell_type": "code",
   "execution_count": 13,
   "metadata": {},
   "outputs": [
    {
     "data": {
      "text/html": [
       "<div>\n",
       "<style scoped>\n",
       "    .dataframe tbody tr th:only-of-type {\n",
       "        vertical-align: middle;\n",
       "    }\n",
       "\n",
       "    .dataframe tbody tr th {\n",
       "        vertical-align: top;\n",
       "    }\n",
       "\n",
       "    .dataframe thead th {\n",
       "        text-align: right;\n",
       "    }\n",
       "</style>\n",
       "<table border=\"1\" class=\"dataframe\">\n",
       "  <thead>\n",
       "    <tr style=\"text-align: right;\">\n",
       "      <th></th>\n",
       "      <th>count</th>\n",
       "      <th>mean</th>\n",
       "      <th>std</th>\n",
       "      <th>min</th>\n",
       "      <th>25%</th>\n",
       "      <th>50%</th>\n",
       "      <th>75%</th>\n",
       "      <th>max</th>\n",
       "    </tr>\n",
       "  </thead>\n",
       "  <tbody>\n",
       "    <tr>\n",
       "      <th>key_id</th>\n",
       "      <td>799096.0</td>\n",
       "      <td>5.629405e+15</td>\n",
       "      <td>6.504081e+14</td>\n",
       "      <td>4.503604e+15</td>\n",
       "      <td>5.065507e+15</td>\n",
       "      <td>5.629015e+15</td>\n",
       "      <td>6.193350e+15</td>\n",
       "      <td>6.755396e+15</td>\n",
       "    </tr>\n",
       "  </tbody>\n",
       "</table>\n",
       "</div>"
      ],
      "text/plain": [
       "           count          mean           std           min           25%  \\\n",
       "key_id  799096.0  5.629405e+15  6.504081e+14  4.503604e+15  5.065507e+15   \n",
       "\n",
       "                 50%           75%           max  \n",
       "key_id  5.629015e+15  6.193350e+15  6.755396e+15  "
      ]
     },
     "execution_count": 13,
     "metadata": {},
     "output_type": "execute_result"
    }
   ],
   "source": [
    "doodles_dataset.describe().transpose()"
   ]
  },
  {
   "cell_type": "code",
   "execution_count": 14,
   "metadata": {},
   "outputs": [],
   "source": [
    "# dropping useless columns\n",
    "doodles_dataset.drop(axis= 'columns', columns=['countrycode', 'timestamp', 'key_id', 'recognized'], inplace = True)"
   ]
  },
  {
   "cell_type": "code",
   "execution_count": 15,
   "metadata": {},
   "outputs": [
    {
     "data": {
      "text/html": [
       "<div>\n",
       "<style scoped>\n",
       "    .dataframe tbody tr th:only-of-type {\n",
       "        vertical-align: middle;\n",
       "    }\n",
       "\n",
       "    .dataframe tbody tr th {\n",
       "        vertical-align: top;\n",
       "    }\n",
       "\n",
       "    .dataframe thead th {\n",
       "        text-align: right;\n",
       "    }\n",
       "</style>\n",
       "<table border=\"1\" class=\"dataframe\">\n",
       "  <thead>\n",
       "    <tr style=\"text-align: right;\">\n",
       "      <th></th>\n",
       "      <th>word</th>\n",
       "      <th>drawing</th>\n",
       "    </tr>\n",
       "  </thead>\n",
       "  <tbody>\n",
       "    <tr>\n",
       "      <th>0</th>\n",
       "      <td>angel</td>\n",
       "      <td>[[[93, 103, 104, 139, 140, 149, 84], [174, 111...</td>\n",
       "    </tr>\n",
       "    <tr>\n",
       "      <th>1</th>\n",
       "      <td>angel</td>\n",
       "      <td>[[[128, 116, 99, 87, 77, 75, 80, 90, 114, 130,...</td>\n",
       "    </tr>\n",
       "    <tr>\n",
       "      <th>2</th>\n",
       "      <td>angel</td>\n",
       "      <td>[[[98, 74, 52, 46, 44, 52, 63, 82, 116, 137, 1...</td>\n",
       "    </tr>\n",
       "    <tr>\n",
       "      <th>3</th>\n",
       "      <td>angel</td>\n",
       "      <td>[[[140, 153, 174, 183, 210, 224, 227, 228, 221...</td>\n",
       "    </tr>\n",
       "    <tr>\n",
       "      <th>4</th>\n",
       "      <td>angel</td>\n",
       "      <td>[[[77, 60, 42, 37, 36, 52, 89, 133, 141, 141, ...</td>\n",
       "    </tr>\n",
       "  </tbody>\n",
       "</table>\n",
       "</div>"
      ],
      "text/plain": [
       "    word                                            drawing\n",
       "0  angel  [[[93, 103, 104, 139, 140, 149, 84], [174, 111...\n",
       "1  angel  [[[128, 116, 99, 87, 77, 75, 80, 90, 114, 130,...\n",
       "2  angel  [[[98, 74, 52, 46, 44, 52, 63, 82, 116, 137, 1...\n",
       "3  angel  [[[140, 153, 174, 183, 210, 224, 227, 228, 221...\n",
       "4  angel  [[[77, 60, 42, 37, 36, 52, 89, 133, 141, 141, ..."
      ]
     },
     "execution_count": 15,
     "metadata": {},
     "output_type": "execute_result"
    }
   ],
   "source": [
    "doodles_dataset.head()"
   ]
  },
  {
   "cell_type": "code",
   "execution_count": 17,
   "metadata": {},
   "outputs": [
    {
     "data": {
      "text/plain": [
       "word       0\n",
       "drawing    0\n",
       "dtype: int64"
      ]
     },
     "execution_count": 17,
     "metadata": {},
     "output_type": "execute_result"
    }
   ],
   "source": [
    "doodles_dataset.isnull().sum()"
   ]
  },
  {
   "cell_type": "markdown",
   "metadata": {},
   "source": [
    "Ok for the little inspection, no missing values. The dataset is clean."
   ]
  },
  {
   "cell_type": "code",
   "execution_count": 19,
   "metadata": {},
   "outputs": [],
   "source": [
    "# doodles_dataset['drawing'].iloc[1]"
   ]
  },
  {
   "cell_type": "code",
   "execution_count": 22,
   "metadata": {},
   "outputs": [
    {
     "data": {
      "image/png": "[encoded data removed]",
      "text/plain": [
       "<Figure size 432x288 with 1 Axes>"
      ]
     },
     "metadata": {
      "needs_background": "light"
     },
     "output_type": "display_data"
    }
   ],
   "source": [
    "import matplotlib.pyplot as plt\n",
    "import numpy as np\n",
    "import random\n",
    "\n",
    "def draw_doodle(doodle: list):\n",
    "    for stroke in doodle:\n",
    "        if not len(stroke) == 2:\n",
    "            continue\n",
    "        x_values = stroke[0]\n",
    "        y_values = -1*np.array(stroke[1]) # y-axis of data is flipped\n",
    "        plt.plot(x_values, y_values)\n",
    "        \n",
    "        \n",
    "random_number = random.randint(1,doodles_dataset.shape[0])\n",
    "\n",
    "draw_doodle(doodles_dataset['drawing'].iloc[random_number])"
   ]
  },
  {
   "cell_type": "markdown",
   "metadata": {},
   "source": [
    "### Processing Data"
   ]
  },
  {
   "cell_type": "code",
   "execution_count": 49,
   "metadata": {},
   "outputs": [],
   "source": [
    "def doodle_to_raster(doodle: list):\n",
    "    input_size = 256\n",
    "    output_size = 64\n",
    "    raster = np.zeros((output_size, output_size), dtype='uint8')\n",
    "    for stroke in doodle:\n",
    "        raster += stroke_to_raster(stroke, input_size, output_size)\n",
    "    raster = raster.clip(0, 1)\n",
    "    return raster\n",
    "            \n",
    "            \n",
    "def stroke_to_raster(stroke: list, input_size: int, output_size: int):\n",
    "    raster = np.zeros((output_size, output_size), dtype='uint8')\n",
    "    for i in range(0, len(stroke[0])-1):\n",
    "        start_point = np.array([stroke[0][i], stroke[1][i]])\n",
    "        start_point = rescale_point(start_point, input_size, output_size)\n",
    "        end_point = np.array([stroke[0][i+1], stroke[1][i+1]])\n",
    "        end_point = rescale_point(end_point, input_size, output_size)\n",
    "        discretised_line = discretise_line(start_point, end_point)\n",
    "        raster += line_to_raster(discretised_line, output_size)\n",
    "    return raster\n",
    "            \n",
    "            \n",
    "def line_to_raster(line: list, output_size: int):\n",
    "    raster = np.zeros((output_size, output_size), dtype='uint8')\n",
    "    for point_index in range(0, line.shape[0]):\n",
    "        point = line[point_index, :]\n",
    "        raster[int(min(output_size-1,point[1])), int(min(output_size-1,point[0]))] = 1\n",
    "    return raster\n",
    "\n",
    "\n",
    "def discretise_line(start_point: list, end_point: list):\n",
    "    points = np.empty((0,2), dtype='uint8')\n",
    "    discrete_length = calculate_discrete_length(start_point, end_point)\n",
    "    for step in range(0, discrete_length + 1):\n",
    "        segment_fraction = 0.0 if discrete_length == 0 else step/float(discrete_length)\n",
    "        points = np.vstack((points, round_point(interpolate_point(start_point, end_point, segment_fraction))))\n",
    "    return points\n",
    "        \n",
    "    \n",
    "def calculate_discrete_length(start_point: list, end_point: list):\n",
    "    start_point = round_point(start_point)\n",
    "    end_point = round_point(end_point)\n",
    "    delta_x = end_point[0] - start_point[0]\n",
    "    delta_y = end_point[1] - start_point[1]\n",
    "    return max(abs(delta_x), abs(delta_y))\n",
    "\n",
    "\n",
    "def round_point(point: list):\n",
    "    return np.array([round(point[0]), round(point[1])])\n",
    "\n",
    "\n",
    "def rescale_point(point: list, input_size: int, output_size: int):\n",
    "    factor = float(input_size)/float(output_size)\n",
    "    return np.array([round(float(point[0])/factor), round(float(point[1])/factor)])\n",
    "\n",
    "\n",
    "def interpolate_point(start_point: list, end_point: list, segment_fraction: float):\n",
    "    return np.array([interpolate(start_point[0], end_point[0], segment_fraction), \n",
    "                   interpolate(start_point[1], end_point[1], segment_fraction)])\n",
    "\n",
    "def interpolate(start: float, end: float, segment_fraction: float):\n",
    "    return start + segment_fraction*(end - start)\n",
    "    "
   ]
  },
  {
   "cell_type": "code",
   "execution_count": 24,
   "metadata": {},
   "outputs": [
    {
     "name": "stdout",
     "output_type": "stream",
     "text": [
      "Num GPUs Available:  1\n"
     ]
    }
   ],
   "source": [
    "print(\"Num GPUs Available: \", len(tf.config.list_physical_devices('GPU')))\n",
    "\n",
    "# with tf.device('/GPU:0'):\n"
   ]
  },
  {
   "cell_type": "code",
   "execution_count": 25,
   "metadata": {},
   "outputs": [],
   "source": [
    "with tf.device('/GPU:0'):\n",
    "\n",
    "    preprocessed_angel = angel_dataset['drawing'].iloc[0:10000].apply(doodle_to_raster)\n",
    "    preprocessed_sword = sword_dataset['drawing'].iloc[0:10000].apply(doodle_to_raster)\n",
    "    preprocessed_airplane = airplane_dataset['drawing'].iloc[0:10000].apply(doodle_to_raster)\n",
    "    preprocessed_camel = camel_dataset['drawing'].iloc[0:10000].apply(doodle_to_raster)\n",
    "    preprocessed_diamond = diamond_dataset['drawing'].iloc[0:10000].apply(doodle_to_raster)\n",
    "    preprocessed_lion = lion_dataset['drawing'].iloc[0:10000].apply(doodle_to_raster)"
   ]
  },
  {
   "cell_type": "code",
   "execution_count": 26,
   "metadata": {},
   "outputs": [
    {
     "data": {
      "text/plain": [
       "pandas.core.series.Series"
      ]
     },
     "execution_count": 26,
     "metadata": {},
     "output_type": "execute_result"
    }
   ],
   "source": [
    "type(preprocessed_angel)"
   ]
  },
  {
   "cell_type": "code",
   "execution_count": 3,
   "metadata": {},
   "outputs": [
    {
     "name": "stdout",
     "output_type": "stream",
     "text": [
      "[[0]\n",
      " [0]\n",
      " [0]\n",
      " ...\n",
      " [0]\n",
      " [0]\n",
      " [0]]\n"
     ]
    }
   ],
   "source": [
    "labels = {}\n",
    "\n",
    "for i in range(len(class_list)):\n",
    "    labels[i] = np.full((10000, 1),i)\n",
    "    \n",
    "print(labels[0])"
   ]
  },
  {
   "cell_type": "code",
   "execution_count": 29,
   "metadata": {},
   "outputs": [],
   "source": [
    "import pickle\n",
    "\n",
    "pickle.dump( preprocessed_angel, open( \"preproc_angel.p\", \"wb\" ) )\n",
    "pickle.dump( preprocessed_sword, open( \"preproc_sword.p\", \"wb\" ) )\n",
    "pickle.dump( preprocessed_airplane, open( \"preproc_airplane.p\", \"wb\" ) )\n",
    "pickle.dump( preprocessed_camel, open( \"preproc_camel.p\", \"wb\" ) )\n",
    "pickle.dump( preprocessed_diamond, open( \"preproc_diamond.p\", \"wb\" ) )\n",
    "pickle.dump( preprocessed_lion, open( \"preproc_lion.p\", \"wb\" ) )"
   ]
  },
  {
   "cell_type": "code",
   "execution_count": 4,
   "metadata": {},
   "outputs": [],
   "source": [
    "import pickle\n",
    "\n",
    "preprocessed_list = [\n",
    "    pickle.load( open( \"preproc_angel.p\", \"rb\" ) ),\n",
    "    pickle.load( open( \"preproc_sword.p\", \"rb\" ) ),\n",
    "    pickle.load( open( \"preproc_airplane.p\", \"rb\" ) ),\n",
    "    pickle.load( open( \"preproc_camel.p\", \"rb\" ) ),\n",
    "    pickle.load( open( \"preproc_diamond.p\", \"rb\" ) ),\n",
    "    pickle.load( open( \"preproc_lion.p\", \"rb\" ) )\n",
    "]\n"
   ]
  },
  {
   "cell_type": "code",
   "execution_count": 8,
   "metadata": {},
   "outputs": [],
   "source": [
    "labelized_list = []\n",
    "\n",
    "for i in range(len(preprocessed_list)):\n",
    "    \n",
    "    elem = pd.DataFrame(preprocessed_list[i])\n",
    "    elem.insert(1, \"label\", labels[i])\n",
    "    labelized_list.append(elem)\n"
   ]
  },
  {
   "cell_type": "code",
   "execution_count": 9,
   "metadata": {},
   "outputs": [
    {
     "data": {
      "text/plain": [
       "(10000, 2)"
      ]
     },
     "execution_count": 9,
     "metadata": {},
     "output_type": "execute_result"
    }
   ],
   "source": [
    "labelized_list[0].shape"
   ]
  },
  {
   "cell_type": "code",
   "execution_count": 10,
   "metadata": {},
   "outputs": [
    {
     "name": "stdout",
     "output_type": "stream",
     "text": [
      "(20000, 2)\n",
      "(30000, 2)\n",
      "(40000, 2)\n",
      "(50000, 2)\n",
      "(60000, 2)\n"
     ]
    }
   ],
   "source": [
    "preprocessed_dataset = labelized_list[0]\n",
    "\n",
    "for i in range(1, len(labelized_list)):\n",
    "    preprocessed_dataset = preprocessed_dataset.append(labelized_list[i])\n",
    "    print(preprocessed_dataset.shape)"
   ]
  },
  {
   "cell_type": "code",
   "execution_count": 11,
   "metadata": {},
   "outputs": [
    {
     "data": {
      "text/plain": [
       "pandas.core.frame.DataFrame"
      ]
     },
     "execution_count": 11,
     "metadata": {},
     "output_type": "execute_result"
    }
   ],
   "source": [
    "type(preprocessed_dataset)"
   ]
  },
  {
   "cell_type": "markdown",
   "metadata": {},
   "source": [
    "### Splitting Dataset"
   ]
  },
  {
   "cell_type": "code",
   "execution_count": 12,
   "metadata": {},
   "outputs": [],
   "source": [
    "from sklearn.model_selection import train_test_split\n",
    "\n",
    "# tensorflow does not accepts numpy arrays of numpy arrays, but wants a 4D tensor with (n_images, width, height, colour_depth)\n",
    "drawings = np.stack(preprocessed_dataset['drawing'].to_numpy()).reshape(60000, 64, 64, 1)\n",
    "\n",
    "train_drawings, test_drawings, train_labels, test_labels = train_test_split(drawings, \n",
    "                                                                            preprocessed_dataset['label'],\n",
    "                                                                            test_size=0.2, random_state=42, shuffle=True)"
   ]
  },
  {
   "cell_type": "markdown",
   "metadata": {},
   "source": [
    "### Composing model"
   ]
  },
  {
   "cell_type": "code",
   "execution_count": 13,
   "metadata": {},
   "outputs": [
    {
     "name": "stdout",
     "output_type": "stream",
     "text": [
      "Num GPUs Available:  1\n"
     ]
    }
   ],
   "source": [
    "from tensorflow.keras import layers, models\n",
    "print(\"Num GPUs Available: \", len(tf.config.list_physical_devices('GPU')))\n",
    "# with tf.device('/GPU:0'):\n",
    "\n",
    "# pixel width and height of our images\n",
    "input_size = 64\n",
    "kernel_size = (5,5)\n"
   ]
  },
  {
   "cell_type": "code",
   "execution_count": 42,
   "metadata": {},
   "outputs": [
    {
     "name": "stdout",
     "output_type": "stream",
     "text": [
      "Model: \"sequential_18\"\n",
      "_________________________________________________________________\n",
      "Layer (type)                 Output Shape              Param #   \n",
      "=================================================================\n",
      "conv2d_111 (Conv2D)          (None, 60, 60, 32)        832       \n",
      "_________________________________________________________________\n",
      "dropout_72 (Dropout)         (None, 60, 60, 32)        0         \n",
      "_________________________________________________________________\n",
      "conv2d_112 (Conv2D)          (None, 56, 56, 32)        25632     \n",
      "_________________________________________________________________\n",
      "batch_normalization_40 (Batc (None, 56, 56, 32)        128       \n",
      "_________________________________________________________________\n",
      "conv2d_113 (Conv2D)          (None, 52, 52, 64)        51264     \n",
      "_________________________________________________________________\n",
      "dropout_73 (Dropout)         (None, 52, 52, 64)        0         \n",
      "_________________________________________________________________\n",
      "conv2d_114 (Conv2D)          (None, 48, 48, 64)        102464    \n",
      "_________________________________________________________________\n",
      "batch_normalization_41 (Batc (None, 48, 48, 64)        256       \n",
      "_________________________________________________________________\n",
      "max_pooling2d_39 (MaxPooling (None, 24, 24, 64)        0         \n",
      "_________________________________________________________________\n",
      "conv2d_115 (Conv2D)          (None, 20, 20, 128)       204928    \n",
      "_________________________________________________________________\n",
      "dropout_74 (Dropout)         (None, 20, 20, 128)       0         \n",
      "_________________________________________________________________\n",
      "conv2d_116 (Conv2D)          (None, 16, 16, 128)       409728    \n",
      "_________________________________________________________________\n",
      "batch_normalization_42 (Batc (None, 16, 16, 128)       512       \n",
      "_________________________________________________________________\n",
      "max_pooling2d_40 (MaxPooling (None, 8, 8, 128)         0         \n",
      "_________________________________________________________________\n",
      "flatten_15 (Flatten)         (None, 8192)              0         \n",
      "_________________________________________________________________\n",
      "dense_73 (Dense)             (None, 128)               1048704   \n",
      "_________________________________________________________________\n",
      "dropout_75 (Dropout)         (None, 128)               0         \n",
      "_________________________________________________________________\n",
      "dense_74 (Dense)             (None, 64)                8256      \n",
      "_________________________________________________________________\n",
      "dropout_76 (Dropout)         (None, 64)                0         \n",
      "_________________________________________________________________\n",
      "dense_75 (Dense)             (None, 32)                2080      \n",
      "_________________________________________________________________\n",
      "dropout_77 (Dropout)         (None, 32)                0         \n",
      "_________________________________________________________________\n",
      "dense_76 (Dense)             (None, 6)                 198       \n",
      "=================================================================\n",
      "Total params: 1,854,982\n",
      "Trainable params: 1,854,534\n",
      "Non-trainable params: 448\n",
      "_________________________________________________________________\n"
     ]
    }
   ],
   "source": [
    "model = models.Sequential()\n",
    "\n",
    "model.add(layers.Conv2D(32, kernel_size = kernel_size, activation='relu', input_shape=(input_size, input_size, 1)))\n",
    "model.add(layers.Dropout(0.2))\n",
    "model.add(layers.Conv2D(32, kernel_size = kernel_size, activation='relu'))\n",
    "model.add(layers.BatchNormalization())\n",
    "\n",
    "model.add(layers.Conv2D(64, kernel_size = kernel_size, activation='relu'))\n",
    "model.add(layers.Dropout(0.2))\n",
    "model.add(layers.Conv2D(64, kernel_size = kernel_size, activation='relu'))\n",
    "model.add(layers.BatchNormalization())\n",
    "model.add(layers.MaxPooling2D(pool_size=(2, 2), strides=(2, 2), padding='same'))\n",
    "\n",
    "model.add(layers.Conv2D(128, kernel_size = kernel_size, activation='relu'))\n",
    "model.add(layers.Dropout(0.2))\n",
    "model.add(layers.Conv2D(128, kernel_size = kernel_size, activation='relu'))\n",
    "model.add(layers.BatchNormalization())\n",
    "model.add(layers.MaxPooling2D(pool_size=(2, 2), strides=(2, 2), padding='same'))\n",
    "\n",
    "model.add(layers.Flatten()) # 2d to 1d\n",
    "\n",
    "model.add(layers.Dense(128, activation='relu'))\n",
    "model.add(layers.Dropout(0.5))\n",
    "model.add(layers.Dense(64, activation='relu'))\n",
    "model.add(layers.Dropout(0.5))\n",
    "model.add(layers.Dense(32, activation='relu'))\n",
    "model.add(layers.Dropout(0.5))\n",
    "model.add(layers.Dense(6, activation='softmax'))\n",
    "\n",
    "model.summary()"
   ]
  },
  {
   "cell_type": "code",
   "execution_count": 43,
   "metadata": {},
   "outputs": [],
   "source": [
    "model.compile(optimizer='adam',\n",
    "              loss='sparse_categorical_crossentropy',\n",
    "              metrics=['accuracy'])"
   ]
  },
  {
   "cell_type": "code",
   "execution_count": 44,
   "metadata": {},
   "outputs": [
    {
     "name": "stdout",
     "output_type": "stream",
     "text": [
      "Epoch 1/12\n",
      "1500/1500 [==============================] - 69s 45ms/step - loss: 1.8202 - accuracy: 0.3485 - val_loss: 0.9926 - val_accuracy: 0.6019\n",
      "Epoch 2/12\n",
      "1500/1500 [==============================] - 73s 49ms/step - loss: 0.9937 - accuracy: 0.6382 - val_loss: 0.8210 - val_accuracy: 0.7529\n",
      "Epoch 3/12\n",
      "1500/1500 [==============================] - 68s 45ms/step - loss: 0.7287 - accuracy: 0.7731 - val_loss: 0.5805 - val_accuracy: 0.8527\n",
      "Epoch 4/12\n",
      "1500/1500 [==============================] - 68s 45ms/step - loss: 0.5406 - accuracy: 0.8426 - val_loss: 0.3272 - val_accuracy: 0.9099\n",
      "Epoch 5/12\n",
      "1500/1500 [==============================] - 68s 45ms/step - loss: 0.4316 - accuracy: 0.8785 - val_loss: 0.3287 - val_accuracy: 0.9110\n",
      "Epoch 6/12\n",
      "1500/1500 [==============================] - 68s 45ms/step - loss: 0.3982 - accuracy: 0.8929 - val_loss: 0.3583 - val_accuracy: 0.9091\n",
      "Epoch 7/12\n",
      "1500/1500 [==============================] - 68s 45ms/step - loss: 0.3603 - accuracy: 0.9055 - val_loss: 0.2641 - val_accuracy: 0.9227\n",
      "Epoch 8/12\n",
      "1500/1500 [==============================] - 68s 45ms/step - loss: 0.3344 - accuracy: 0.9092 - val_loss: 0.2662 - val_accuracy: 0.9271\n",
      "Epoch 9/12\n",
      "1500/1500 [==============================] - 68s 45ms/step - loss: 0.3074 - accuracy: 0.9173 - val_loss: 0.3068 - val_accuracy: 0.9359\n",
      "Epoch 10/12\n",
      "1500/1500 [==============================] - 65s 44ms/step - loss: 0.2927 - accuracy: 0.9225 - val_loss: 0.2658 - val_accuracy: 0.9323\n",
      "Epoch 11/12\n",
      "1500/1500 [==============================] - 65s 44ms/step - loss: 0.2708 - accuracy: 0.9297 - val_loss: 0.2588 - val_accuracy: 0.9430\n",
      "Epoch 12/12\n",
      "1500/1500 [==============================] - 65s 44ms/step - loss: 0.2654 - accuracy: 0.9288 - val_loss: 0.2184 - val_accuracy: 0.9383\n"
     ]
    }
   ],
   "source": [
    "with tf.device('/GPU:0'):\n",
    "\n",
    "    history = model.fit(train_drawings, train_labels, epochs=12, \n",
    "                        validation_data=(test_drawings, test_labels))"
   ]
  },
  {
   "cell_type": "code",
   "execution_count": 45,
   "metadata": {},
   "outputs": [
    {
     "name": "stdout",
     "output_type": "stream",
     "text": [
      "375/375 - 4s - loss: 0.2184 - accuracy: 0.9383\n"
     ]
    },
    {
     "data": {
      "image/png": "[encoded data removed]",
      "text/plain": [
       "<Figure size 432x288 with 1 Axes>"
      ]
     },
     "metadata": {
      "needs_background": "light"
     },
     "output_type": "display_data"
    }
   ],
   "source": [
    "plt.plot(history.history['accuracy'], label='training set')\n",
    "plt.plot(history.history['val_accuracy'], label = 'testing set')\n",
    "plt.xlabel('Epoch')\n",
    "plt.ylabel('Accuracy')\n",
    "plt.ylim([0.5, 1])\n",
    "plt.legend(loc='lower right')\n",
    "\n",
    "test_loss, test_acc = model.evaluate(test_drawings,  test_labels, verbose=2)"
   ]
  },
  {
   "cell_type": "markdown",
   "metadata": {},
   "source": [
    "### Testing the model"
   ]
  },
  {
   "cell_type": "code",
   "execution_count": 46,
   "metadata": {},
   "outputs": [],
   "source": [
    "class LineDrawer:\n",
    "    \n",
    "    def __init__(self, canvas, input_size, output_size = 256, brush_size = 3, line_colour = \"#476042\"):\n",
    "        self.canvas = canvas\n",
    "        self.drawing = []\n",
    "        self.mouse_is_clicked = False\n",
    "        self.brush_size = brush_size\n",
    "        self.line_colour = line_colour\n",
    "        self.active_stroke = [[],[]]\n",
    "        self.scale_factor = float(output_size)/float(input_size)\n",
    "\n",
    "    def on_motion(self, event):\n",
    "        if not self.mouse_is_clicked:\n",
    "            return\n",
    "        x1, y1 = (event.x - self.brush_size), (event.y - self.brush_size)\n",
    "        x2, y2 = (event.x + self.brush_size), (event.y + self.brush_size)\n",
    "        self.canvas.create_oval(x1, y1, x2, y2, fill=self.line_colour)\n",
    "        self.write_to_stroke([event.x*self.scale_factor, event.y*self.scale_factor])\n",
    "\n",
    "    def on_down_press(self, event):\n",
    "        self.mouse_is_clicked = True\n",
    "\n",
    "    def on_release(self, event):\n",
    "        self.mouse_is_clicked = False\n",
    "        self.finish_stroke()\n",
    "        \n",
    "    def finish_stroke(self):\n",
    "        self.drawing.append(self.active_stroke)\n",
    "        self.active_stroke = [[],[]]\n",
    "\n",
    "    def write_to_stroke(self, point: list):\n",
    "        self.active_stroke[0].append(round(point[0]))\n",
    "        self.active_stroke[1].append(round(point[1]))\n",
    "    "
   ]
  },
  {
   "cell_type": "code",
   "execution_count": 47,
   "metadata": {},
   "outputs": [],
   "source": [
    "import tkinter as tk\n",
    "\n",
    "# run this cell to get a drawing interface!\n",
    "gui = tk.Tk()\n",
    "canvas_size = 512\n",
    "canvas = tk.Canvas(gui, width=canvas_size, height=canvas_size)\n",
    "line_drawer = LineDrawer(canvas, canvas_size)\n",
    "canvas.bind('<Motion>', line_drawer.on_motion)\n",
    "canvas.bind('<Button-1>', line_drawer.on_down_press)\n",
    "canvas.bind('<ButtonRelease-1>', line_drawer.on_release)\n",
    "canvas.pack()\n",
    "gui.mainloop()"
   ]
  },
  {
   "cell_type": "code",
   "execution_count": 50,
   "metadata": {},
   "outputs": [
    {
     "data": {
      "text/plain": [
       "<matplotlib.image.AxesImage at 0x1e03dc51190>"
      ]
     },
     "execution_count": 50,
     "metadata": {},
     "output_type": "execute_result"
    },
    {
     "data": {
      "image/png": "[encoded data removed]",
      "text/plain": [
       "<Figure size 432x288 with 1 Axes>"
      ]
     },
     "metadata": {
      "needs_background": "light"
     },
     "output_type": "display_data"
    }
   ],
   "source": [
    "plt.imshow(doodle_to_raster(line_drawer.drawing))"
   ]
  },
  {
   "cell_type": "code",
   "execution_count": 51,
   "metadata": {},
   "outputs": [
    {
     "data": {
      "text/plain": [
       "array([[8.4137486e-10, 6.0511110e-12, 6.3694536e-15, 9.9999702e-01,\n",
       "        2.6580479e-10, 2.9645123e-06]], dtype=float32)"
      ]
     },
     "execution_count": 51,
     "metadata": {},
     "output_type": "execute_result"
    }
   ],
   "source": [
    "drawing_input = doodle_to_raster(line_drawer.drawing).reshape(1, 64, 64, 1)\n",
    "\n",
    "model.predict(drawing_input)"
   ]
  },
  {
   "cell_type": "code",
   "execution_count": 52,
   "metadata": {},
   "outputs": [],
   "source": [
    "model.save('recognition.h5')"
   ]
  },
  {
   "cell_type": "code",
   "execution_count": null,
   "metadata": {},
   "outputs": [],
   "source": []
  }
 ],
 "metadata": {
  "kernelspec": {
   "display_name": "Python 3",
   "language": "python",
   "name": "python3"
  },
  "language_info": {
   "codemirror_mode": {
    "name": "ipython",
    "version": 3
   },
   "file_extension": ".py",
   "mimetype": "text/x-python",
   "name": "python",
   "nbconvert_exporter": "python",
   "pygments_lexer": "ipython3",
   "version": "3.8.6"
  }
 },
 "nbformat": 4,
 "nbformat_minor": 4
}
